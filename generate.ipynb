{
 "cells": [
  {
   "cell_type": "code",
   "execution_count": 6,
   "id": "891d390b",
   "metadata": {},
   "outputs": [
    {
     "name": "stdout",
     "output_type": "stream",
     "text": [
      "\n"
     ]
    }
   ],
   "source": [
    "source generate.xsh"
   ]
  },
  {
   "cell_type": "code",
   "execution_count": 2,
   "id": "4008291a",
   "metadata": {},
   "outputs": [],
   "source": [
    "py = []\n",
    "py += [\"!You are a python programmer and generate only python code, without any comment.\"]\n",
    "py += [\"!Produce always a function named main, receiving and returning a python dictionary.\"]\n"
   ]
  },
  {
   "cell_type": "code",
   "execution_count": 27,
   "id": "979ee02d",
   "metadata": {},
   "outputs": [
    {
     "name": "stderr",
     "output_type": "stream",
     "text": [
      "xonsh: For full traceback set: $XONSH_SHOW_TRACEBACK = True\n",
      "TypeError: ask() missing 1 required positional argument: 'msg'\n"
     ]
    }
   ],
   "source": [
    "generate.ask(py)"
   ]
  },
  {
   "cell_type": "code",
   "execution_count": 28,
   "id": "bdfbd86d",
   "metadata": {},
   "outputs": [
    {
     "name": "stderr",
     "output_type": "stream",
     "text": [
      "xonsh: For full traceback set: $XONSH_SHOW_TRACEBACK = True\n",
      "AttributeError: module 'generate' has no attribute 'boh'\n"
     ]
    }
   ],
   "source": [
    "generate.boh(py, \"write hello world\")"
   ]
  },
  {
   "cell_type": "code",
   "execution_count": 25,
   "id": "e3fcf617",
   "metadata": {},
   "outputs": [],
   "source": [
    "import generate"
   ]
  },
  {
   "cell_type": "code",
   "execution_count": 29,
   "id": "36e055c9",
   "metadata": {},
   "outputs": [
    {
     "name": "stdout",
     "output_type": "stream",
     "text": [
      "ciao\n"
     ]
    }
   ],
   "source": [
    "print(\"ciao\")"
   ]
  }
 ],
 "metadata": {
  "kernelspec": {
   "display_name": "Xonsh",
   "language": "xonsh",
   "name": "xonsh"
  },
  "language_info": {
   "codemirror_mode": "shell",
   "file_extension": ".xsh",
   "mimetype": "text/x-sh",
   "name": "xonsh",
   "pygments_lexer": "xonsh",
   "version": "0.13.4"
  }
 },
 "nbformat": 4,
 "nbformat_minor": 5
}
